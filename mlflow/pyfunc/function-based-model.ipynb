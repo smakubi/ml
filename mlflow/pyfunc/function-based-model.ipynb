{
 "cells": [
  {
   "cell_type": "markdown",
   "metadata": {
    "application/vnd.databricks.v1+cell": {
     "cellMetadata": {},
     "inputWidgets": {},
     "nuid": "77b0638a-45e9-4950-832f-42f5e94192c4",
     "showTitle": false,
     "tableResultSettingsMap": {},
     "title": ""
    }
   },
   "source": [
    "**Function-based Model**\n",
    "\n",
    "If you’re looking to serialize a simple python function without additional dependent methods, you can simply log a predict method via the keyword argument `python_model`.\n",
    "\n",
    "\n",
    "Function-based model only supports a function with a single input argument. If you would like to pass more arguments or additional inference parameters, please use the class-based model."
   ]
  },
  {
   "cell_type": "code",
   "execution_count": 0,
   "metadata": {
    "application/vnd.databricks.v1+cell": {
     "cellMetadata": {
      "byteLimit": 2048000,
      "rowLimit": 10000
     },
     "inputWidgets": {},
     "nuid": "f8bc9432-f3c4-4148-a751-3aeea10cae01",
     "showTitle": false,
     "tableResultSettingsMap": {},
     "title": ""
    }
   },
   "outputs": [],
   "source": [
    "import mlflow\n",
    "import pandas as pd\n",
    "\n",
    "\n",
    "# Define a simple function to log\n",
    "def predict(model_input):\n",
    "    return model_input.apply(lambda x: x * 2)\n",
    "\n",
    "\n",
    "# Save the function as a model\n",
    "with mlflow.start_run():\n",
    "    mlflow.pyfunc.log_model(\n",
    "        artifact_path=\"model\", python_model=predict, pip_requirements=[\"pandas\"]\n",
    "    )\n",
    "    run_id = mlflow.active_run().info.run_id\n",
    "\n",
    "\n",
    "# Load the model from the tracking server and perform inference\n",
    "model = mlflow.pyfunc.load_model(f\"runs:/{run_id}/model\")\n",
    "x_new = pd.Series([1, 2, 3])\n",
    "\n",
    "prediction = model.predict(x_new)\n",
    "display(prediction)"
   ]
  }
 ],
 "metadata": {
  "application/vnd.databricks.v1+notebook": {
   "computePreferences": null,
   "dashboards": [],
   "environmentMetadata": {
    "base_environment": "",
    "environment_version": "2"
   },
   "inputWidgetPreferences": null,
   "language": "python",
   "notebookMetadata": {
    "pythonIndentUnit": 2
   },
   "notebookName": "function-based-model",
   "widgets": {}
  },
  "language_info": {
   "name": "python"
  }
 },
 "nbformat": 4,
 "nbformat_minor": 0
}
